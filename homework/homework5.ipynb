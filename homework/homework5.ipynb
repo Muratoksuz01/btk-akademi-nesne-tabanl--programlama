{
 "cells": [
  {
   "cell_type": "code",
   "execution_count": 1,
   "metadata": {},
   "outputs": [
    {
     "data": {
      "text/plain": [
       "'\\nGereksinimler\\n1. \"Person\" (Kişi) adında bir temel sınıf oluşturun.\\n2. \"Person\" sinifi, ad ve yaş için özelliklere sahip olmalıdır.\\n3. \"Student\" (Öğrenci) ve \"Teacher\" (Öğretmen) sınıflarını \"Person\" sınıfından türetin.  \\n\\n4. \"Student\" sınıfı, öğrenci numarası için ek bir özelliğe sahip olmalıdır.\\n5. \"Teacher\" sınıfı, öğrettikleri ders için ek bir özelliğe sahip olmalıdır.\\n6. Her sınıf, bilgilerini görüntülemek için bir yönteme sahip olmalıdır.\\n'"
      ]
     },
     "execution_count": 1,
     "metadata": {},
     "output_type": "execute_result"
    }
   ],
   "source": [
    "\"\"\"\n",
    "Gereksinimler\n",
    "1. \"Person\" (Kişi) adında bir temel sınıf oluşturun.\n",
    "2. \"Person\" sinifi, ad ve yaş için özelliklere sahip olmalıdır.\n",
    "3. \"Student\" (Öğrenci) ve \"Teacher\" (Öğretmen) sınıflarını \"Person\" sınıfından türetin.  \n",
    "\n",
    "4. \"Student\" sınıfı, öğrenci numarası için ek bir özelliğe sahip olmalıdır.\n",
    "5. \"Teacher\" sınıfı, öğrettikleri ders için ek bir özelliğe sahip olmalıdır.\n",
    "6. Her sınıf, bilgilerini görüntülemek için bir yönteme sahip olmalıdır.\n",
    "\"\"\""
   ]
  },
  {
   "cell_type": "code",
   "execution_count": 5,
   "metadata": {},
   "outputs": [],
   "source": [
    "class Person:\n",
    "    def __init__(self,ad:str,yas:int) -> None:\n",
    "        print(\"person kurucu foksiyonu\")\n",
    "        self.__ad=ad\n",
    "        self.__yas=yas\n",
    "    @property\n",
    "    def ad(self):\n",
    "        return self.__ad\n",
    "    @property\n",
    "    def yas(self):\n",
    "        return self.__yas\n",
    "    @ad.setter\n",
    "    def ad(self,value:str):\n",
    "        self.__ad=value\n",
    "    @yas.setter\n",
    "    def yas(self,value:int):\n",
    "        self.__yas=value\n",
    "    def to_string(self):\n",
    "        return self.ad+\" - \"+str(self.yas)\n",
    "class Student(Person):\n",
    "    def __init__(self, ad: str, yas: int,ogrnum:int) -> None:\n",
    "        print(\"Student kurucu foksiyonu\")\n",
    "\n",
    "        super().__init__(ad, yas)\n",
    "        self.__ogrnum=ogrnum\n",
    "    @property\n",
    "    def ogrnum(self):\n",
    "        return self.__ogrnum\n",
    "    \n",
    "    def to_string(self):\n",
    "        #return super().to_string()  # ust classin to_string fok kullanmak istersen\n",
    "        return self.ad+\" - \"+str(self.yas)+\" - \"+str(self.ogrnum)\n",
    "        \n",
    "class teacher(Person):\n",
    "    def __init__(self, ad: str, yas: int,ders:str) -> None:\n",
    "        print(\"Teacher kurucu foksiyonu\")\n",
    "\n",
    "        super().__init__(ad, yas)\n",
    "        self.__ders=ders\n",
    "    @property\n",
    "    def ders(self):\n",
    "        return self.__ders\n",
    "\n",
    "    def to_string(self):\n",
    "        #return super().to_string()  # ust classin to_string fok kullanmak istersen\n",
    "        return self.ad+\" - \"+str(self.yas)+\" - \"+self.ders\n",
    "        "
   ]
  },
  {
   "cell_type": "code",
   "execution_count": 7,
   "metadata": {},
   "outputs": [
    {
     "name": "stdout",
     "output_type": "stream",
     "text": [
      "person kurucu foksiyonu\n",
      "ali - 20\n",
      "----------------\n",
      "Student kurucu foksiyonu\n",
      "person kurucu foksiyonu\n",
      "mehmet - 22 - 212503005\n",
      "----------------\n",
      "Teacher kurucu foksiyonu\n",
      "person kurucu foksiyonu\n",
      "sibel - 26 - mat\n"
     ]
    }
   ],
   "source": [
    "item1=Person(\"ali\",20)\n",
    "print(item1.to_string())\n",
    "print(\"----------------\")\n",
    "item2=Student(\"mehmet\",22,212503005)\n",
    "print(item2.to_string())\n",
    "print(\"----------------\")\n",
    "\n",
    "item3=teacher(\"sibel\",26,\"mat\")\n",
    "print(item3.to_string())\n"
   ]
  },
  {
   "cell_type": "code",
   "execution_count": null,
   "metadata": {},
   "outputs": [],
   "source": []
  }
 ],
 "metadata": {
  "kernelspec": {
   "display_name": "Python 3",
   "language": "python",
   "name": "python3"
  },
  "language_info": {
   "codemirror_mode": {
    "name": "ipython",
    "version": 3
   },
   "file_extension": ".py",
   "mimetype": "text/x-python",
   "name": "python",
   "nbconvert_exporter": "python",
   "pygments_lexer": "ipython3",
   "version": "3.10.12"
  }
 },
 "nbformat": 4,
 "nbformat_minor": 2
}
