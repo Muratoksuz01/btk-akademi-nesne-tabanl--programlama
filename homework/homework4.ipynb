{
 "cells": [
  {
   "cell_type": "code",
   "execution_count": 56,
   "metadata": {},
   "outputs": [],
   "source": []
  },
  {
   "cell_type": "code",
   "execution_count": 77,
   "metadata": {},
   "outputs": [],
   "source": [
    "class Product:\n",
    "    def __init__(self, name: str, price: float, quantity: int) -> None:\n",
    "        self.__name = name\n",
    "        self.__price = price\n",
    "        self.__quantity = quantity\n",
    "    \n",
    "    @property\n",
    "    def name(self) -> str:\n",
    "        return self.__name\n",
    "\n",
    "    @property\n",
    "    def price(self) -> float:\n",
    "        return self.__price\n",
    "\n",
    "    @property\n",
    "    def quantity(self) -> int:\n",
    "        return self.__quantity\n",
    "\n",
    "    @name.setter\n",
    "    def name(self, value:str) -> None:\n",
    "        self.__name = value\n",
    "\n",
    "    @price.setter\n",
    "    def price(self, value:float) -> None:\n",
    "        self.__price = value\n",
    "\n",
    "    @quantity.setter\n",
    "    def quantity(self, value:int) -> None:\n",
    "        self.__quantity = value\n",
    "\n",
    "    def getTotalPrice(self):\n",
    "        return  self.__price * self.__quantity\n",
    "    \n",
    "    def __repr__(self) -> str:\n",
    "        return f\"{self.__name}  {self.__price} , {self.__quantity} , ve toplam {self.getTotalPrice()}\"\n",
    "\n",
    "class ProductHelper(Product):\n",
    "    @staticmethod\n",
    "    def createItemFromText(text:str) -> Product: \n",
    "        parts = text.split(\",\")  # Virgülle ayrılan kısımları al\n",
    "        print(len(parts))\n",
    "        name, price, quantity =  parts[1], parts[2], parts[3]\n",
    "        return Product(name.strip(), float(price), int(quantity))\n",
    "\n",
    "    @staticmethod\n",
    "    def getBalance(products:list) -> float:\n",
    "        total_balance = 0\n",
    "        for product in products:\n",
    "            total_balance += product.getTotalPrice()\n",
    "        # KDV eklenmesi\n",
    "        total_balance *= 1.20\n",
    "        return total_balance\n",
    "\n",
    "\n"
   ]
  },
  {
   "cell_type": "code",
   "execution_count": 78,
   "metadata": {},
   "outputs": [
    {
     "name": "stdout",
     "output_type": "stream",
     "text": [
      "1002.5\n",
      "ali\n",
      "10\n"
     ]
    }
   ],
   "source": [
    "item1=Product(\"computer\",200.5,5)\n",
    "print(item1.getTotalPrice())\n",
    "item1.name=\"ali\"\n",
    "print((item1.name))\n",
    "\n",
    "item1.quantity=10\n",
    "print(item1.quantity)\n",
    "\n"
   ]
  },
  {
   "cell_type": "code",
   "execution_count": 79,
   "metadata": {},
   "outputs": [
    {
     "name": "stdout",
     "output_type": "stream",
     "text": [
      "1, Computer,5000,2\n",
      "4\n",
      "2, Laptop,7000,3\n",
      "4\n",
      "3, Airpods,2000,1\n",
      "4\n",
      "4, Smart Phone,1500,5,\n",
      "5\n",
      "5, Smart Watch,900,4\n",
      "4\n"
     ]
    },
    {
     "data": {
      "text/plain": [
       "52920.0"
      ]
     },
     "execution_count": 79,
     "metadata": {},
     "output_type": "execute_result"
    }
   ],
   "source": [
    "productlist=[]\n",
    "\n",
    "with open(\"products.txt\",\"r\") as f:\n",
    "    dizi=f.readlines()\n",
    "    for diz in dizi:\n",
    "        print(diz.strip())\n",
    "        item=ProductHelper.createItemFromText(diz.strip())\n",
    "        productlist.append(item)\n",
    "ProductHelper.getBalance(productlist)"
   ]
  },
  {
   "cell_type": "code",
   "execution_count": null,
   "metadata": {},
   "outputs": [],
   "source": []
  }
 ],
 "metadata": {
  "kernelspec": {
   "display_name": "Python 3",
   "language": "python",
   "name": "python3"
  },
  "language_info": {
   "codemirror_mode": {
    "name": "ipython",
    "version": 3
   },
   "file_extension": ".py",
   "mimetype": "text/x-python",
   "name": "python",
   "nbconvert_exporter": "python",
   "pygments_lexer": "ipython3",
   "version": "3.10.12"
  }
 },
 "nbformat": 4,
 "nbformat_minor": 2
}
